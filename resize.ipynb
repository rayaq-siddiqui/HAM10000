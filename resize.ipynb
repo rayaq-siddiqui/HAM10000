{
 "cells": [
  {
   "cell_type": "code",
   "execution_count": 1,
   "metadata": {},
   "outputs": [
    {
     "name": "stdout",
     "output_type": "stream",
     "text": [
      "all resources loaded\n"
     ]
    }
   ],
   "source": [
    "# data science libraries\n",
    "import os\n",
    "import pandas as pd\n",
    "# import cv2\n",
    "import numpy as np\n",
    "import matplotlib.pyplot as plt\n",
    "np.random.seed(1000)\n",
    "\n",
    "# keras and tf\n",
    "import tensorflow as tf\n",
    "from tensorflow.keras.models import Sequential, Model\n",
    "from tensorflow.keras.layers import Dense, Dropout, Flatten, Conv2D, MaxPool2D, Input\n",
    "from tensorflow.keras.utils import to_categorical\n",
    "from tensorflow.keras.preprocessing.image import ImageDataGenerator\n",
    "from tensorflow.keras import optimizers\n",
    "\n",
    "# other tf imports\n",
    "from tensorflow.keras.preprocessing.image import ImageDataGenerator\n",
    "\n",
    "# model imports\n",
    "from tensorflow.keras.applications.inception_v3 import InceptionV3\n",
    "from tensorflow.keras.layers import GlobalAveragePooling2D, Dense, Dropout, MaxPooling2D, BatchNormalization\n",
    "from tensorflow.keras.models import Model\n",
    "from sklearn.preprocessing import StandardScaler\n",
    "\n",
    "# for compiling the model\n",
    "from tensorflow.keras.optimizers import SGD, Adam, RMSprop\n",
    "from tensorflow.keras.losses import CategoricalCrossentropy as cce\n",
    "from tensorflow.keras.metrics import CategoricalAccuracy as cca\n",
    "\n",
    "# print validation statement\n",
    "print(\"all resources loaded\")"
   ]
  },
  {
   "cell_type": "code",
   "execution_count": 7,
   "metadata": {},
   "outputs": [],
   "source": [
    "X_train = np.load('variables/X_train.npy')\n",
    "X_test = np.load('variables/X_test.npy')\n",
    "y_train = np.load('variables/y_train.npy')\n",
    "y_test = np.load('variables/y_test.npy')"
   ]
  },
  {
   "cell_type": "code",
   "execution_count": 16,
   "metadata": {},
   "outputs": [
    {
     "data": {
      "text/plain": [
       "(8012, 450, 600, 3)"
      ]
     },
     "execution_count": 16,
     "metadata": {},
     "output_type": "execute_result"
    }
   ],
   "source": [
    "type(X_train[0:5])\n",
    "X_train.shape"
   ]
  },
  {
   "cell_type": "code",
   "execution_count": 10,
   "metadata": {},
   "outputs": [
    {
     "data": {
      "text/plain": [
       "(8012, 75, 100, 3)"
      ]
     },
     "execution_count": 10,
     "metadata": {},
     "output_type": "execute_result"
    }
   ],
   "source": [
    "np.resize(X_train, (8012, 30, 40, 3)).shape"
   ]
  },
  {
   "cell_type": "code",
   "execution_count": 3,
   "metadata": {},
   "outputs": [
    {
     "name": "stdout",
     "output_type": "stream",
     "text": [
      "(8012, 450, 600, 3)\n",
      "(2003, 450, 600, 3)\n"
     ]
    }
   ],
   "source": [
    "print(X_train.shape)\n",
    "print(X_test.shape)\n",
    "# print(y_train.shape)\n",
    "# print(y_test.shape)"
   ]
  },
  {
   "cell_type": "code",
   "execution_count": 8,
   "metadata": {},
   "outputs": [],
   "source": [
    "X_train = np.resize(X_train, (8012, 30, 40, 3))\n",
    "X_test = np.resize(X_test, (2003, 30, 40, 3))\n",
    "# y_train = np.resize(y_train, (8012, 7))\n",
    "# y_test = np.resize(y_test, (2003, 7))"
   ]
  },
  {
   "cell_type": "code",
   "execution_count": 5,
   "metadata": {},
   "outputs": [],
   "source": [
    "np.save('variables/X_train_resized', X_train)\n",
    "np.save('variables/X_test_resized', X_test)\n",
    "# np.save('variables/y_train_resized', y_train)\n",
    "# np.save('variables/y_test_resized', y_test)"
   ]
  },
  {
   "cell_type": "code",
   "execution_count": 6,
   "metadata": {},
   "outputs": [
    {
     "name": "stdout",
     "output_type": "stream",
     "text": [
      "(8012, 30, 40, 3)\n",
      "(2003, 30, 40, 3)\n"
     ]
    }
   ],
   "source": [
    "print(X_train.shape)\n",
    "print(X_test.shape)\n",
    "# print(y_train.shape)\n",
    "# print(y_test.shape)"
   ]
  },
  {
   "cell_type": "code",
   "execution_count": 25,
   "metadata": {},
   "outputs": [
    {
     "data": {
      "text/plain": [
       "{0: 0.2132609332162155,\n",
       " 1: 1.2903849251087132,\n",
       " 2: 1.3140888961784485,\n",
       " 3: 2.71869697997964,\n",
       " 4: 4.436323366555925,\n",
       " 5: 9.459268004722551,\n",
       " 6: 13.155993431855501}"
      ]
     },
     "execution_count": 25,
     "metadata": {},
     "output_type": "execute_result"
    }
   ],
   "source": [
    "from sklearn.utils import class_weight\n",
    "\n",
    "# classes = []\n",
    "# for i in range(7):\n",
    "#     tmp = [0. for j in range(7)]\n",
    "#     tmp[i] = 1.\n",
    "#     classes.append(tmp)\n",
    "\n",
    "yt = []\n",
    "for y in (y_train):\n",
    "    for i, num in enumerate(y):\n",
    "        if num == 1:\n",
    "            yt.append(i)\n",
    "yt = list(yt)\n",
    "\n",
    "cw = class_weight.compute_class_weight(\n",
    "    class_weight='balanced', \n",
    "    classes=range(7),\n",
    "    y=yt\n",
    ")\n",
    "cw\n",
    "\n",
    "cw = dict(enumerate(cw))\n",
    "cw"
   ]
  },
  {
   "cell_type": "code",
   "execution_count": null,
   "metadata": {},
   "outputs": [],
   "source": [
    "class_labels = ['nv', 'mel', 'bkl', 'bcc', 'akiec', 'vasc', 'df']"
   ]
  },
  {
   "cell_type": "code",
   "execution_count": 10,
   "metadata": {},
   "outputs": [
    {
     "name": "stdout",
     "output_type": "stream",
     "text": [
      "[1. 0. 0. 0. 0. 0. 0.]\n"
     ]
    }
   ],
   "source": [
    "for y in y_train:\n",
    "    print(y)\n",
    "    break"
   ]
  }
 ],
 "metadata": {
  "interpreter": {
   "hash": "c060d7a87246073440d297d24d249c6879bf01018c1956a89b9e3b1a2afcdf3e"
  },
  "kernelspec": {
   "display_name": "Python 3.8.2 ('HAM10000-z3lXwcIp')",
   "language": "python",
   "name": "python3"
  },
  "language_info": {
   "codemirror_mode": {
    "name": "ipython",
    "version": 3
   },
   "file_extension": ".py",
   "mimetype": "text/x-python",
   "name": "python",
   "nbconvert_exporter": "python",
   "pygments_lexer": "ipython3",
   "version": "3.8.2"
  },
  "orig_nbformat": 4
 },
 "nbformat": 4,
 "nbformat_minor": 2
}
